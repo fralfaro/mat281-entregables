{
  "cells": [
    {
      "cell_type": "markdown",
      "id": "969c4c2a",
      "metadata": {
        "id": "969c4c2a"
      },
      "source": [
        "<a href=\"https://colab.research.google.com/github/fralfaro/MAT281/blob/main/docs/lectures/toolkit/python.ipynb\" target=\"_parent\"><img src=\"https://colab.research.google.com/assets/colab-badge.svg\" alt=\"Open In Colab\"/></a>\n",
        "\n",
        "# Python\n",
        "\n",
        "<img src=\"https://upload.wikimedia.org/wikipedia/commons/thumb/c/c3/Python-logo-notext.svg/1200px-Python-logo-notext.svg.png\" width = \"200\" align=\"center\"/>"
      ]
    },
    {
      "cell_type": "markdown",
      "id": "fb3f826d",
      "metadata": {
        "id": "fb3f826d"
      },
      "source": [
        "## Introducción\n",
        "\n",
        "\n",
        "**Python** es un lenguaje de programación interpretado y de alto nivel. Fue creado por Guido van Rossum y lanzado por primera vez en 1991. Python se destaca por su legibilidad y sintaxis clara, lo que lo hace ideal tanto para principiantes como para programadores experimentados.\n",
        "\n",
        "Una de las características más destacadas de Python es su filosofía de diseño, que enfatiza la legibilidad del código y la facilidad de uso. El lenguaje utiliza una sintaxis limpia y utiliza el espaciado en blanco de manera significativa para estructurar el código, lo que lo hace fácil de leer y entender.\n",
        "\n",
        "> 🔑 **Nota**: Para profundizar en conceptos básicos de Python, se recomienda estudiar del curso [Introducción a Python](https://fralfaro.github.io/python_intro/)."
      ]
    },
    {
      "cell_type": "markdown",
      "id": "4374db7c",
      "metadata": {
        "id": "4374db7c"
      },
      "source": [
        "## Nomenclatura\n",
        "\n",
        "<img src=\"https://cs.stanford.edu/people/nick/py/img/python-var3.svg\" width = \"500\" align=\"center\"/>"
      ]
    },
    {
      "cell_type": "markdown",
      "id": "a1e1d400",
      "metadata": {
        "id": "a1e1d400"
      },
      "source": [
        "### Sintaxis\n",
        "\n",
        "**Hola mundo!**\n",
        "\n",
        "Escribamos nuestro primer programa de Python, \"¡Hola, mundo!\". Es un programa simple que imprime Hello World! en el dispositivo de salida estándar (pantalla)."
      ]
    },
    {
      "cell_type": "code",
      "execution_count": null,
      "id": "04e05598",
      "metadata": {
        "id": "04e05598",
        "outputId": "f95d8e27-7144-4c0d-98ae-79708fe8c7c4",
        "colab": {
          "base_uri": "https://localhost:8080/"
        }
      },
      "outputs": [
        {
          "output_type": "stream",
          "name": "stdout",
          "text": [
            "Hola Mundo!\n"
          ]
        }
      ],
      "source": [
        "# imprimir \"Hola Mundo!\"\n",
        "print(\"Hola Mundo!\");"
      ]
    },
    {
      "cell_type": "markdown",
      "id": "2874f087",
      "metadata": {
        "id": "2874f087"
      },
      "source": [
        "**Variables**\n",
        "\n",
        "Las **variables** son contenedores que se utilizan para almacenar datos. Estos datos pueden ser números, cadenas de texto, listas, diccionarios, y más. En Python, no necesitas declarar el tipo de variable antes de asignarle un valor; el tipo de variable se determina automáticamente según el valor que se le asigne.\n",
        "\n",
        "Además, las variables pueden contener una amplia variedad de tipos de datos, que determinan el tipo de valores que pueden almacenar y las operaciones que se pueden realizar con ellos.\n"
      ]
    },
    {
      "cell_type": "code",
      "execution_count": null,
      "id": "f8eddfa1",
      "metadata": {
        "id": "f8eddfa1",
        "outputId": "985bb17c-3171-401f-b572-80a1e7cf90ef"
      },
      "outputs": [
        {
          "name": "stdout",
          "output_type": "stream",
          "text": [
            "Valor de numero_entero: 10\n",
            "Valor de numero_flotante: 3.14\n",
            "Valor de nombre: Juan\n",
            "Valor de mensaje: Hola, mundo!\n",
            "Valor de verdadero: True\n",
            "Valor de falso: False\n",
            "Valor de mi_variable_nula: None\n"
          ]
        }
      ],
      "source": [
        "# Variables numéricas\n",
        "numero_entero = 10\n",
        "numero_flotante = 3.14\n",
        "\n",
        "# Variables de cadena de texto\n",
        "nombre = \"Juan\"\n",
        "mensaje = 'Hola, mundo!'\n",
        "\n",
        "# Variables booleanas\n",
        "verdadero = True\n",
        "falso = False\n",
        "\n",
        "# Variables nulas\n",
        "mi_variable_nula = None\n",
        "\n",
        "# Imprimiendo los valores de las variables\n",
        "print(\"Valor de numero_entero:\", numero_entero)\n",
        "print(\"Valor de numero_flotante:\", numero_flotante)\n",
        "print(\"Valor de nombre:\", nombre)\n",
        "print(\"Valor de mensaje:\", mensaje)\n",
        "print(\"Valor de verdadero:\", verdadero)\n",
        "print(\"Valor de falso:\", falso)\n",
        "print(\"Valor de mi_variable_nula:\", mi_variable_nula)"
      ]
    },
    {
      "cell_type": "markdown",
      "id": "2b6f83e3",
      "metadata": {
        "id": "2b6f83e3"
      },
      "source": [
        "### Operaciones\n",
        "\n",
        "Puedes realizar una variedad de operaciones en diferentes tipos de datos. Estas operaciones pueden ser aritméticas, de comparación, lógicas, de asignación, de pertenencia e identidad. A continuación, se describen los principales tipos de operaciones:"
      ]
    },
    {
      "cell_type": "markdown",
      "id": "2e551bbc",
      "metadata": {
        "id": "2e551bbc"
      },
      "source": [
        "**Operaciones Aritméticas**\n",
        "\n",
        "Las operaciones aritméticas se utilizan para realizar cálculos matemáticos simples. Algunas de las operaciones aritméticas básicas incluyen:\n",
        "\n",
        "- Suma (+)\n",
        "- Resta (-)\n",
        "- Multiplicación (*)\n",
        "- División (/)\n",
        "- Potenciación (**)\n",
        "- División entera (//)\n",
        "- Módulo (%)"
      ]
    },
    {
      "cell_type": "code",
      "execution_count": null,
      "id": "fa1c12be",
      "metadata": {
        "id": "fa1c12be",
        "outputId": "81214f0d-611e-478b-e79b-a6b871558667"
      },
      "outputs": [
        {
          "name": "stdout",
          "output_type": "stream",
          "text": [
            "Operaciones Aritméticas:\n",
            "Suma: 13\n",
            "Resta: 7\n",
            "Multiplicación: 30\n",
            "División: 3.3333333333333335\n",
            "Potenciación: 1000\n",
            "División entera: 3\n",
            "Módulo: 1\n"
          ]
        }
      ],
      "source": [
        "# Operaciones Aritméticas\n",
        "a = 10\n",
        "b = 3\n",
        "\n",
        "suma = a + b\n",
        "resta = a - b\n",
        "multiplicacion = a * b\n",
        "division = a / b\n",
        "potenciacion = a ** b\n",
        "division_entera = a // b\n",
        "modulo = a % b\n",
        "\n",
        "print(\"Operaciones Aritméticas:\")\n",
        "print(\"Suma:\", suma)\n",
        "print(\"Resta:\", resta)\n",
        "print(\"Multiplicación:\", multiplicacion)\n",
        "print(\"División:\", division)\n",
        "print(\"Potenciación:\", potenciacion)\n",
        "print(\"División entera:\", division_entera)\n",
        "print(\"Módulo:\", modulo)"
      ]
    },
    {
      "cell_type": "markdown",
      "id": "0a5d76f9",
      "metadata": {
        "id": "0a5d76f9"
      },
      "source": [
        "**Operaciones de Comparación**\n",
        "\n",
        "Las operaciones de comparación se utilizan para comparar valores y devolver un valor booleano (Verdadero o Falso). Algunas operaciones de comparación comunes son:\n",
        "\n",
        "- Igualdad (==)\n",
        "- Desigualdad (!=)\n",
        "- Mayor que (>)\n",
        "- Menor que (<)\n",
        "- Mayor o igual que (>=)\n",
        "- Menor o igual que (<=)"
      ]
    },
    {
      "cell_type": "code",
      "execution_count": null,
      "id": "c2323017",
      "metadata": {
        "id": "c2323017",
        "outputId": "a66e4065-d971-40fc-c65d-c43c7788768e"
      },
      "outputs": [
        {
          "name": "stdout",
          "output_type": "stream",
          "text": [
            "Operaciones de Comparación:\n",
            "Igualdad: False\n",
            "Desigualdad: True\n",
            "Mayor que: True\n",
            "Menor que: False\n",
            "Mayor o igual que: True\n",
            "Menor o igual que: False\n"
          ]
        }
      ],
      "source": [
        "# Operaciones de Comparación\n",
        "igualdad = (a == b)\n",
        "desigualdad = (a != b)\n",
        "mayor_que = (a > b)\n",
        "menor_que = (a < b)\n",
        "mayor_igual = (a >= b)\n",
        "menor_igual = (a <= b)\n",
        "\n",
        "print(\"Operaciones de Comparación:\")\n",
        "print(\"Igualdad:\", igualdad)\n",
        "print(\"Desigualdad:\", desigualdad)\n",
        "print(\"Mayor que:\", mayor_que)\n",
        "print(\"Menor que:\", menor_que)\n",
        "print(\"Mayor o igual que:\", mayor_igual)\n",
        "print(\"Menor o igual que:\", menor_igual)"
      ]
    },
    {
      "cell_type": "markdown",
      "id": "3308cfb9",
      "metadata": {
        "id": "3308cfb9"
      },
      "source": [
        "**Operaciones Lógicas**\n",
        "\n",
        "Las operaciones lógicas se utilizan para realizar operaciones booleanas en valores booleanos. Algunas operaciones lógicas comunes incluyen:\n",
        "\n",
        "- Y lógico (and)\n",
        "- O lógico (or)\n",
        "- Negación lógica (not)"
      ]
    },
    {
      "cell_type": "code",
      "execution_count": null,
      "id": "bba2139d",
      "metadata": {
        "id": "bba2139d",
        "outputId": "8f48e99c-9d7d-47ae-afd7-63c2716e81f5"
      },
      "outputs": [
        {
          "name": "stdout",
          "output_type": "stream",
          "text": [
            "Operaciones Lógicas:\n",
            "Y lógico: False\n",
            "O lógico: True\n",
            "Negación: False\n"
          ]
        }
      ],
      "source": [
        "# Operaciones Lógicas\n",
        "verdadero = True\n",
        "falso = False\n",
        "\n",
        "y_logico = verdadero and falso\n",
        "o_logico = verdadero or falso\n",
        "negacion = not verdadero\n",
        "\n",
        "print(\"Operaciones Lógicas:\")\n",
        "print(\"Y lógico:\", y_logico)\n",
        "print(\"O lógico:\", o_logico)\n",
        "print(\"Negación:\", negacion)"
      ]
    },
    {
      "cell_type": "markdown",
      "id": "92254965",
      "metadata": {
        "id": "92254965"
      },
      "source": [
        "**Operaciones de Asignación**\n",
        "\n",
        "Las operaciones de asignación se utilizan para asignar valores a variables. Algunas operaciones de asignación pueden combinar operaciones aritméticas con la asignación. Por ejemplo:"
      ]
    },
    {
      "cell_type": "code",
      "execution_count": null,
      "id": "6f879dbf",
      "metadata": {
        "id": "6f879dbf",
        "outputId": "4332e86f-dd90-422a-a949-b4efb84185b9"
      },
      "outputs": [
        {
          "name": "stdout",
          "output_type": "stream",
          "text": [
            "Operaciones de Asignación:\n",
            "Valor de x después de la asignación: 7\n"
          ]
        }
      ],
      "source": [
        "# Operaciones de Asignación\n",
        "x = 5\n",
        "x += 2  # Equivalente a x = x + 2\n",
        "\n",
        "print(\"Operaciones de Asignación:\")\n",
        "print(\"Valor de x después de la asignación:\", x)"
      ]
    },
    {
      "cell_type": "markdown",
      "id": "15286304",
      "metadata": {
        "id": "15286304"
      },
      "source": [
        "**Operaciones con strings**\n",
        "\n",
        "Puedes realizar varias operaciones con cadenas de texto (strings) para manipular y trabajar con ellas de diversas formas. A continuación, se describen algunas operaciones comunes con ejemplos y resultados:\n"
      ]
    },
    {
      "cell_type": "code",
      "execution_count": null,
      "id": "0d63e1f2",
      "metadata": {
        "id": "0d63e1f2",
        "outputId": "c5db20a6-50ea-4ca9-e8cc-e871caf2b24c"
      },
      "outputs": [
        {
          "name": "stdout",
          "output_type": "stream",
          "text": [
            "Concatenación: Hola mundo\n"
          ]
        }
      ],
      "source": [
        "cadena1 = \"Hola\"\n",
        "cadena2 = \"mundo\"\n",
        "\n",
        "# Concatenación de cadenas\n",
        "resultado_concatenacion = cadena1 + \" \" + cadena2\n",
        "print(\"Concatenación:\", resultado_concatenacion)"
      ]
    },
    {
      "cell_type": "code",
      "execution_count": null,
      "id": "4094439b",
      "metadata": {
        "id": "4094439b",
        "outputId": "8f5eee8c-0265-494b-ea4a-567fe3c58e24"
      },
      "outputs": [
        {
          "name": "stdout",
          "output_type": "stream",
          "text": [
            "Repetición: PythonPythonPython\n"
          ]
        }
      ],
      "source": [
        "cadena = \"Python\"\n",
        "# Repetición de una cadena\n",
        "resultado_repeticion = cadena * 3\n",
        "print(\"Repetición:\", resultado_repeticion)"
      ]
    },
    {
      "cell_type": "code",
      "execution_count": null,
      "id": "b5f30d88",
      "metadata": {
        "id": "b5f30d88",
        "outputId": "b04d69fe-a924-45c7-a9ec-0a4b6b601eac"
      },
      "outputs": [
        {
          "name": "stdout",
          "output_type": "stream",
          "text": [
            "Indexación: P\n"
          ]
        }
      ],
      "source": [
        "# Indexación para obtener el primer carácter de la cadena\n",
        "primer_caracter = cadena[0]\n",
        "print(\"Indexación:\", primer_caracter)"
      ]
    },
    {
      "cell_type": "code",
      "execution_count": null,
      "id": "d3d9c6af",
      "metadata": {
        "id": "d3d9c6af",
        "outputId": "e24824f0-8a6d-44b7-acfa-8b039f4ee347"
      },
      "outputs": [
        {
          "name": "stdout",
          "output_type": "stream",
          "text": [
            "Longitud: 6\n"
          ]
        }
      ],
      "source": [
        "# Obtención de la longitud de la cadena\n",
        "longitud = len(cadena)\n",
        "print(\"Longitud:\", longitud)"
      ]
    },
    {
      "cell_type": "code",
      "execution_count": null,
      "id": "69a6cb2d",
      "metadata": {
        "id": "69a6cb2d",
        "outputId": "299c2bf2-b2a4-4651-dce3-0be669e3bc65"
      },
      "outputs": [
        {
          "name": "stdout",
          "output_type": "stream",
          "text": [
            "Slicing: tho\n"
          ]
        }
      ],
      "source": [
        "# Slicing para obtener una subcadena de la cadena original\n",
        "subcadena = cadena[2:5]\n",
        "print(\"Slicing:\", subcadena)"
      ]
    },
    {
      "cell_type": "markdown",
      "id": "47b013f4",
      "metadata": {
        "id": "47b013f4"
      },
      "source": [
        "## Control de Flujo\n",
        "\n",
        "<img src=\"https://snakebear.science/_images/if_elif_else_flowchart.svg\" width = \"600\" align=\"center\"/>"
      ]
    },
    {
      "cell_type": "markdown",
      "id": "816f7817",
      "metadata": {
        "id": "816f7817"
      },
      "source": [
        "### Condicional if-elif-else\n",
        "\n",
        "Los condicionales `if`, `elif` y `else` son estructuras fundamentales en Python que te permiten ejecutar diferentes bloques de código dependiendo de ciertas condiciones. A continuación se explica cómo funcionan:\n",
        "\n",
        "**Estructura básica**\n",
        "\n",
        "La estructura básica de un condicional `if` es la siguiente:\n",
        "\n",
        "```python\n",
        "if condicion:\n",
        "    # Código a ejecutar si la condición es verdadera\n",
        "```\n",
        "\n",
        "Si la condición es verdadera, se ejecuta el bloque de código indentado debajo de la declaración `if`. Si la condición es falsa, este bloque de código se omite.\n",
        "\n",
        "**Condicional if-else**\n",
        "\n",
        "Puedes agregar un bloque `else` para ejecutar un código alternativo cuando la condición en el `if` es falsa:\n",
        "\n",
        "```python\n",
        "if condicion:\n",
        "    # Código a ejecutar si la condición es verdadera\n",
        "else:\n",
        "    # Código a ejecutar si la condición es falsa\n",
        "```\n",
        "\n",
        "**Condicional if-elif-else**\n",
        "\n",
        "Si tienes múltiples condiciones, puedes usar la estructura `elif` (abreviatura de \"else if\") para verificarlas en secuencia:\n",
        "\n",
        "```python\n",
        "if condicion1:\n",
        "    # Código a ejecutar si la condicion1 es verdadera\n",
        "elif condicion2:\n",
        "    # Código a ejecutar si la condicion2 es verdadera\n",
        "else:\n",
        "    # Código a ejecutar si ninguna de las condiciones anteriores es verdadera\n",
        "```\n",
        "\n",
        "**Ejemplo**"
      ]
    },
    {
      "cell_type": "code",
      "execution_count": null,
      "id": "98f4d722",
      "metadata": {
        "id": "98f4d722",
        "outputId": "b76cef9f-266f-4385-cca2-3d775e5516a5"
      },
      "outputs": [
        {
          "name": "stdout",
          "output_type": "stream",
          "text": [
            "Eres adulto\n"
          ]
        }
      ],
      "source": [
        "edad = 20\n",
        "\n",
        "if edad < 18:\n",
        "    print(\"Eres menor de edad\")\n",
        "elif edad >= 18 and edad < 65:\n",
        "    print(\"Eres adulto\")\n",
        "else:\n",
        "    print(\"Eres un adulto mayor\")"
      ]
    },
    {
      "cell_type": "markdown",
      "id": "34c74217",
      "metadata": {
        "id": "34c74217"
      },
      "source": [
        "### Bucle While\n",
        "\n",
        "El bucle `while` es una estructura de control que permite repetir un bloque de código mientras una condición especificada sea verdadera. A continuación se explica cómo funciona:\n",
        "\n",
        "**Estructura básica**\n",
        "\n",
        "La estructura básica de un bucle `while` es la siguiente:\n",
        "\n",
        "```python\n",
        "while condicion:\n",
        "    # Código a repetir mientras la condición sea verdadera\n",
        "```\n",
        "\n",
        "El bloque de código indentado debajo del `while` se ejecutará repetidamente mientras la condición sea verdadera. Una vez que la condición se evalúa como falsa, la ejecución del bucle se detiene y el programa continúa con la siguiente instrucción después del bucle.\n",
        "\n",
        "**Ejemplo**"
      ]
    },
    {
      "cell_type": "code",
      "execution_count": null,
      "id": "e34c95de",
      "metadata": {
        "id": "e34c95de",
        "outputId": "369a4f71-45a7-46c3-d043-18abb83700ed"
      },
      "outputs": [
        {
          "name": "stdout",
          "output_type": "stream",
          "text": [
            "El contador es: 0\n",
            "El contador es: 1\n",
            "El contador es: 2\n",
            "El contador es: 3\n",
            "El contador es: 4\n",
            "¡Bucle completado!\n"
          ]
        }
      ],
      "source": [
        "contador = 0\n",
        "\n",
        "while contador < 5:\n",
        "    print(\"El contador es:\", contador)\n",
        "    contador += 1\n",
        "\n",
        "print(\"¡Bucle completado!\")"
      ]
    },
    {
      "cell_type": "markdown",
      "id": "fb5d5b7b",
      "metadata": {
        "id": "fb5d5b7b"
      },
      "source": [
        "### Ciclo `For` con la Función Range()\n",
        "\n",
        "El ciclo `for` se utiliza para iterar sobre una secuencia (como una lista, una tupla, un diccionario, etc.) y realizar una acción en cada elemento de la secuencia. La función `range()` es comúnmente utilizada junto con un ciclo `for` para generar una secuencia de números en un rango específico. A continuación se explica cómo funciona:\n",
        "\n",
        "**Estructura básica**\n",
        "\n",
        "La estructura básica de un ciclo `for` con `range()` es la siguiente:\n",
        "\n",
        "```python\n",
        "for variable in range(inicio, fin, paso):\n",
        "    # Código a ejecutar en cada iteración\n",
        "```\n",
        "\n",
        "La función `range()` genera una secuencia de números que comienza desde el valor de \"inicio\" hasta el valor de \"fin\" (sin incluirlo), con un incremento definido por el valor de \"paso\". El bloque de código indentado debajo del `for` se ejecutará una vez para cada valor en la secuencia generada por `range()`.\n",
        "\n",
        "**Ejemplo**"
      ]
    },
    {
      "cell_type": "code",
      "execution_count": null,
      "id": "bf85ca84",
      "metadata": {
        "id": "bf85ca84",
        "outputId": "1eca4fbe-9d35-450a-b2e4-cee0bd1c96c6"
      },
      "outputs": [
        {
          "name": "stdout",
          "output_type": "stream",
          "text": [
            "El valor de i es: 0\n",
            "El valor de i es: 1\n",
            "El valor de i es: 2\n",
            "El valor de i es: 3\n",
            "El valor de i es: 4\n",
            "¡Ciclo completado!\n"
          ]
        }
      ],
      "source": [
        "for i in range(5):\n",
        "    print(\"El valor de i es:\", i)\n",
        "\n",
        "print(\"¡Ciclo completado!\")"
      ]
    },
    {
      "cell_type": "markdown",
      "id": "bf73867f",
      "metadata": {
        "id": "bf73867f"
      },
      "source": [
        "### Salir o Continuar un Ciclo\n",
        "\n",
        "Puedes controlar el flujo de ejecución de un ciclo `for` o `while` utilizando las palabras clave `break` y `continue`. Estas palabras clave te permiten detener la ejecución del ciclo de forma prematura o saltar a la siguiente iteración del ciclo, respectivamente. A continuación se explica cómo funcionan:\n",
        "\n",
        "**Salir de un Ciclo con `break`**\n",
        "\n",
        "La palabra clave `break` se utiliza para salir de un ciclo de forma prematura si se cumple una cierta condición. Cuando se encuentra una instrucción `break`, el ciclo se detiene inmediatamente y la ejecución del programa continúa con la primera instrucción después del ciclo.\n",
        "\n",
        "**Ejemplo**"
      ]
    },
    {
      "cell_type": "code",
      "execution_count": null,
      "id": "a3f16fbb",
      "metadata": {
        "id": "a3f16fbb",
        "outputId": "48311737-dac8-414d-c267-4c80e4bedefb"
      },
      "outputs": [
        {
          "name": "stdout",
          "output_type": "stream",
          "text": [
            "El valor del contador es: 1\n",
            "El valor del contador es: 2\n",
            "El valor del contador es: 3\n",
            "El valor del contador es: 4\n",
            "¡El contador llegó a 5! Saliendo del ciclo.\n",
            "¡Ciclo completado!\n"
          ]
        }
      ],
      "source": [
        "# Ejemplo de salir de un ciclo con break\n",
        "\n",
        "contador = 0\n",
        "\n",
        "while True:\n",
        "    contador += 1\n",
        "\n",
        "    # Salir del ciclo si el contador llega a 5\n",
        "    if contador == 5:\n",
        "        print(\"¡El contador llegó a 5! Saliendo del ciclo.\")\n",
        "        break\n",
        "\n",
        "    print(\"El valor del contador es:\", contador)\n",
        "\n",
        "print(\"¡Ciclo completado!\")\n"
      ]
    },
    {
      "cell_type": "markdown",
      "id": "482816bf",
      "metadata": {
        "id": "482816bf"
      },
      "source": [
        "**Continuar con la Siguiente Iteración con `continue`**\n",
        "\n",
        "La palabra clave `continue` se utiliza para saltar a la siguiente iteración del ciclo si se cumple una cierta condición. Cuando se encuentra una instrucción `continue`, el ciclo se detiene temporalmente y se pasa a la siguiente iteración del ciclo, omitiendo cualquier código restante dentro del bloque de ciclo para esa iteración en particular.\n",
        "\n",
        "**Ejemplo**"
      ]
    },
    {
      "cell_type": "code",
      "execution_count": null,
      "id": "ca87267e",
      "metadata": {
        "id": "ca87267e",
        "outputId": "2b38a940-ce93-411b-bbc6-425ffa73ef8b"
      },
      "outputs": [
        {
          "name": "stdout",
          "output_type": "stream",
          "text": [
            "El valor del contador es: 1\n",
            "El contador es par. Continuando con la siguiente iteración.\n",
            "El valor del contador es: 3\n",
            "El contador es par. Continuando con la siguiente iteración.\n",
            "El valor del contador es: 5\n",
            "¡Ciclo completado!\n"
          ]
        }
      ],
      "source": [
        "# Ejemplo de continuar con la siguiente iteración con continue\n",
        "\n",
        "contador = 0\n",
        "\n",
        "while contador < 5:\n",
        "    contador += 1\n",
        "\n",
        "    # Saltar a la siguiente iteración si el contador es par\n",
        "    if contador % 2 == 0:\n",
        "        print(\"El contador es par. Continuando con la siguiente iteración.\")\n",
        "        continue\n",
        "\n",
        "    print(\"El valor del contador es:\", contador)\n",
        "\n",
        "print(\"¡Ciclo completado!\")\n"
      ]
    },
    {
      "cell_type": "markdown",
      "id": "b7e82bc4",
      "metadata": {
        "id": "b7e82bc4"
      },
      "source": [
        "## Estructura de datos\n",
        "\n",
        "<img src=\"https://miro.medium.com/v2/resize:fit:1400/1*Det-kkoSw9T4IZ4XrypVNQ.png\" width = \"700\" align=\"center\"/>"
      ]
    },
    {
      "cell_type": "markdown",
      "id": "bca83798",
      "metadata": {
        "id": "bca83798"
      },
      "source": [
        "Existen varias estructuras de datos integradas que te permiten almacenar y organizar colecciones de elementos de diferentes maneras. Algunas de las estructuras de datos más comunes son las listas, las tuplas, los conjuntos y los diccionarios. A continuación, se explican cada una de ellas con ejemplos y resultados impresos."
      ]
    },
    {
      "cell_type": "markdown",
      "id": "8b3b120a",
      "metadata": {
        "id": "8b3b120a"
      },
      "source": [
        "### Listas\n",
        "\n",
        "Una lista en Python es una colección ordenada y mutable de elementos. Puedes acceder a los elementos de una lista utilizando índices, y puedes modificar la lista agregando, eliminando o cambiando elementos."
      ]
    },
    {
      "cell_type": "code",
      "execution_count": null,
      "id": "559b00b1",
      "metadata": {
        "id": "559b00b1",
        "outputId": "72a17e52-24bb-49f6-99f6-3c927f80750d"
      },
      "outputs": [
        {
          "name": "stdout",
          "output_type": "stream",
          "text": [
            "Lista vacía: []\n"
          ]
        }
      ],
      "source": [
        "# Crear una lista vacía\n",
        "lista_vacia = []\n",
        "print(\"Lista vacía:\", lista_vacia)"
      ]
    },
    {
      "cell_type": "code",
      "execution_count": null,
      "id": "982bcab9",
      "metadata": {
        "id": "982bcab9",
        "outputId": "4dc86f48-1310-420e-9796-bd6858fb5d31"
      },
      "outputs": [
        {
          "name": "stdout",
          "output_type": "stream",
          "text": [
            "Lista mixta: [1, 'dos', 3.0, True]\n"
          ]
        }
      ],
      "source": [
        "# Crear una lista con elementos de diferentes tipos\n",
        "lista_mixta = [1, \"dos\", 3.0, True]\n",
        "print(\"Lista mixta:\", lista_mixta)"
      ]
    },
    {
      "cell_type": "code",
      "execution_count": null,
      "id": "d07bccbc",
      "metadata": {
        "id": "d07bccbc",
        "outputId": "b1a5e9cb-ea5d-45e3-e861-d2824e25c827"
      },
      "outputs": [
        {
          "name": "stdout",
          "output_type": "stream",
          "text": [
            "Primer elemento: a\n",
            "Último elemento: e\n"
          ]
        }
      ],
      "source": [
        "# Acceder a elementos de una lista utilizando índices positivos y negativos\n",
        "mi_lista = ['a', 'b', 'c', 'd', 'e']\n",
        "print(\"Primer elemento:\", mi_lista[0])\n",
        "print(\"Último elemento:\", mi_lista[-1])"
      ]
    },
    {
      "cell_type": "code",
      "execution_count": null,
      "id": "77b719d5",
      "metadata": {
        "id": "77b719d5",
        "outputId": "c97d0bfc-1007-44c7-8ac6-1dcb030baf35"
      },
      "outputs": [
        {
          "name": "stdout",
          "output_type": "stream",
          "text": [
            "Rebanado: ['b', 'c']\n"
          ]
        }
      ],
      "source": [
        "# Rebanado (slicing) de listas\n",
        "print(\"Rebanado:\", mi_lista[1:3])"
      ]
    },
    {
      "cell_type": "code",
      "execution_count": null,
      "id": "e4100a99",
      "metadata": {
        "id": "e4100a99",
        "outputId": "d8a2a09f-ab11-448a-c64d-549bda55de95"
      },
      "outputs": [
        {
          "name": "stdout",
          "output_type": "stream",
          "text": [
            "Lista modificada: ['z', 'b', 'c', 'd', 'e']\n"
          ]
        }
      ],
      "source": [
        "# Modificar elementos de una lista\n",
        "mi_lista[0] = 'z'\n",
        "print(\"Lista modificada:\", mi_lista)"
      ]
    },
    {
      "cell_type": "code",
      "execution_count": null,
      "id": "3f17158d",
      "metadata": {
        "id": "3f17158d",
        "outputId": "87a97c7a-b146-4d2d-e90d-bafff4596e63"
      },
      "outputs": [
        {
          "name": "stdout",
          "output_type": "stream",
          "text": [
            "Lista después de agregar un elemento: ['z', 'b', 'c', 'd', 'e', 'f']\n"
          ]
        }
      ],
      "source": [
        "# Agregar elementos a una lista\n",
        "mi_lista.append('f')\n",
        "print(\"Lista después de agregar un elemento:\", mi_lista)"
      ]
    },
    {
      "cell_type": "code",
      "execution_count": null,
      "id": "9f71b441",
      "metadata": {
        "id": "9f71b441",
        "outputId": "ec54fa7e-e703-440e-e64b-bf21c389268f"
      },
      "outputs": [
        {
          "name": "stdout",
          "output_type": "stream",
          "text": [
            "Lista después de extenderla con otra lista: ['z', 'b', 'c', 'd', 'e', 'f', 'g', 'h', 'i']\n"
          ]
        }
      ],
      "source": [
        "# Extender una lista con otra lista\n",
        "mi_otra_lista = ['g', 'h', 'i']\n",
        "mi_lista.extend(mi_otra_lista)\n",
        "print(\"Lista después de extenderla con otra lista:\", mi_lista)"
      ]
    },
    {
      "cell_type": "code",
      "execution_count": null,
      "id": "f2840775",
      "metadata": {
        "id": "f2840775",
        "outputId": "d66a0ca9-3411-44ce-b066-92e8138f4722"
      },
      "outputs": [
        {
          "name": "stdout",
          "output_type": "stream",
          "text": [
            "Lista después de insertar un nuevo elemento: ['z', 'b', 'nuevo', 'c', 'd', 'e', 'f', 'g', 'h', 'i']\n"
          ]
        }
      ],
      "source": [
        "# Insertar un elemento en una posición específica\n",
        "mi_lista.insert(2, 'nuevo')\n",
        "print(\"Lista después de insertar un nuevo elemento:\", mi_lista)"
      ]
    },
    {
      "cell_type": "code",
      "execution_count": null,
      "id": "4e54c3ad",
      "metadata": {
        "id": "4e54c3ad",
        "outputId": "6beaa1a1-81e8-4b5e-9d93-47a6bf504866"
      },
      "outputs": [
        {
          "name": "stdout",
          "output_type": "stream",
          "text": [
            "Lista después de eliminar un elemento: ['z', 'b', 'nuevo', 'd', 'e', 'f', 'g', 'h', 'i']\n"
          ]
        }
      ],
      "source": [
        "# Eliminar un elemento de una lista\n",
        "mi_lista.remove('c')\n",
        "print(\"Lista después de eliminar un elemento:\", mi_lista)"
      ]
    },
    {
      "cell_type": "code",
      "execution_count": null,
      "id": "757adeac",
      "metadata": {
        "id": "757adeac",
        "outputId": "2d2d4802-51cd-4fad-c9b9-1da22d07e0cd"
      },
      "outputs": [
        {
          "name": "stdout",
          "output_type": "stream",
          "text": [
            "Último elemento eliminado: i\n",
            "Lista después de eliminar el último elemento: ['z', 'b', 'nuevo', 'd', 'e', 'f', 'g', 'h']\n"
          ]
        }
      ],
      "source": [
        "# Eliminar el último elemento de una lista y devolverlo\n",
        "ultimo_elemento = mi_lista.pop()\n",
        "print(\"Último elemento eliminado:\", ultimo_elemento)\n",
        "print(\"Lista después de eliminar el último elemento:\", mi_lista)"
      ]
    },
    {
      "cell_type": "code",
      "execution_count": null,
      "id": "a5654053",
      "metadata": {
        "id": "a5654053",
        "outputId": "f3c0d1c3-39b4-448b-ce29-def5a75cd304"
      },
      "outputs": [
        {
          "name": "stdout",
          "output_type": "stream",
          "text": [
            "Índice del elemento 'e': 4\n"
          ]
        }
      ],
      "source": [
        "# Buscar el índice de un elemento en una lista\n",
        "indice = mi_lista.index('e')\n",
        "print(\"Índice del elemento 'e':\", indice)"
      ]
    },
    {
      "cell_type": "code",
      "execution_count": null,
      "id": "31ed3aef",
      "metadata": {
        "id": "31ed3aef",
        "outputId": "a22d7e1e-10fa-4006-b3e6-af2bc46f8ab5"
      },
      "outputs": [
        {
          "name": "stdout",
          "output_type": "stream",
          "text": [
            "Cantidad de veces que aparece 'a': 0\n"
          ]
        }
      ],
      "source": [
        "# Contar la cantidad de veces que aparece un elemento en una lista\n",
        "cantidad = mi_lista.count('a')\n",
        "print(\"Cantidad de veces que aparece 'a':\", cantidad)"
      ]
    },
    {
      "cell_type": "code",
      "execution_count": null,
      "id": "414ddd11",
      "metadata": {
        "id": "414ddd11",
        "outputId": "aa9f1c8b-2a0a-4e63-a0f9-308d47c64331"
      },
      "outputs": [
        {
          "name": "stdout",
          "output_type": "stream",
          "text": [
            "Lista después de revertir el orden: ['h', 'g', 'f', 'e', 'd', 'nuevo', 'b', 'z']\n"
          ]
        }
      ],
      "source": [
        "# Revertir el orden de los elementos en una lista\n",
        "mi_lista.reverse()\n",
        "print(\"Lista después de revertir el orden:\", mi_lista)"
      ]
    },
    {
      "cell_type": "code",
      "execution_count": null,
      "id": "e2613696",
      "metadata": {
        "id": "e2613696",
        "outputId": "e4db1c93-ec9e-459c-e076-cfaccf340534"
      },
      "outputs": [
        {
          "name": "stdout",
          "output_type": "stream",
          "text": [
            "Lista de números ordenada: [1, 1, 2, 3, 3, 4, 5, 5, 6, 9]\n"
          ]
        }
      ],
      "source": [
        "# Ordenar los elementos de una lista (si son del mismo tipo)\n",
        "numeros = [3, 1, 4, 1, 5, 9, 2, 6, 5, 3]\n",
        "numeros.sort()\n",
        "print(\"Lista de números ordenada:\", numeros)"
      ]
    },
    {
      "cell_type": "code",
      "execution_count": null,
      "id": "60c999cf",
      "metadata": {
        "id": "60c999cf",
        "outputId": "ef020c04-72c5-43e1-863a-e900e2334bc4"
      },
      "outputs": [
        {
          "name": "stdout",
          "output_type": "stream",
          "text": [
            "Copia de la lista: ['h', 'g', 'f', 'e', 'd', 'nuevo', 'b', 'z']\n"
          ]
        }
      ],
      "source": [
        "# Copiar una lista\n",
        "copia_lista = mi_lista.copy()\n",
        "print(\"Copia de la lista:\", copia_lista)"
      ]
    },
    {
      "cell_type": "code",
      "execution_count": null,
      "id": "e61f545a",
      "metadata": {
        "id": "e61f545a",
        "outputId": "1bdeef52-dc3a-4952-bde7-30e6219a823f"
      },
      "outputs": [
        {
          "name": "stdout",
          "output_type": "stream",
          "text": [
            "Lista después de vaciarla: []\n"
          ]
        }
      ],
      "source": [
        "# Vaciar una lista\n",
        "mi_lista.clear()\n",
        "print(\"Lista después de vaciarla:\", mi_lista)"
      ]
    },
    {
      "cell_type": "markdown",
      "id": "8476bcf8",
      "metadata": {
        "id": "8476bcf8"
      },
      "source": [
        "### Tuplas\n",
        "\n",
        "Una tupla en Python es una colección ordenada e inmutable de elementos. Puedes acceder a los elementos de una tupla utilizando índices, pero no puedes modificar la tupla después de crearla."
      ]
    },
    {
      "cell_type": "code",
      "execution_count": null,
      "id": "ea8c526c",
      "metadata": {
        "id": "ea8c526c",
        "outputId": "aea26c2d-703e-4c7a-d9f7-28e14d83936d"
      },
      "outputs": [
        {
          "name": "stdout",
          "output_type": "stream",
          "text": [
            "Tupla vacía: ()\n"
          ]
        }
      ],
      "source": [
        "# Crear una tupla vacía\n",
        "tupla_vacia = ()\n",
        "print(\"Tupla vacía:\", tupla_vacia)"
      ]
    },
    {
      "cell_type": "code",
      "execution_count": null,
      "id": "d79cbdf0",
      "metadata": {
        "id": "d79cbdf0",
        "outputId": "7e033333-17c9-4182-dbd6-861c60f7abd3"
      },
      "outputs": [
        {
          "name": "stdout",
          "output_type": "stream",
          "text": [
            "Tupla mixta: (1, 'dos', 3.0, True)\n"
          ]
        }
      ],
      "source": [
        "# Crear una tupla con elementos de diferentes tipos\n",
        "tupla_mixta = (1, \"dos\", 3.0, True)\n",
        "print(\"Tupla mixta:\", tupla_mixta)"
      ]
    },
    {
      "cell_type": "code",
      "execution_count": null,
      "id": "598b71ef",
      "metadata": {
        "id": "598b71ef",
        "outputId": "bd78fd7e-68b8-4e28-f609-7b435f76f98e"
      },
      "outputs": [
        {
          "name": "stdout",
          "output_type": "stream",
          "text": [
            "Primer elemento: a\n",
            "Último elemento: e\n"
          ]
        }
      ],
      "source": [
        "# Acceder a elementos de una tupla utilizando índices positivos y negativos\n",
        "mi_tupla = ('a', 'b', 'c', 'd', 'e')\n",
        "print(\"Primer elemento:\", mi_tupla[0])\n",
        "print(\"Último elemento:\", mi_tupla[-1])"
      ]
    },
    {
      "cell_type": "code",
      "execution_count": null,
      "id": "e0890e65",
      "metadata": {
        "id": "e0890e65",
        "outputId": "0c59db9b-0a41-4420-af8d-25ee95ec1767"
      },
      "outputs": [
        {
          "name": "stdout",
          "output_type": "stream",
          "text": [
            "Rebanado: ('b', 'c')\n"
          ]
        }
      ],
      "source": [
        "# Rebanado (slicing) de tuplas\n",
        "print(\"Rebanado:\", mi_tupla[1:3])\n",
        "# No se puede modificar una tupla después de crearla\n",
        "# mi_tupla[0] = 'z'  # Esto producirá un error"
      ]
    },
    {
      "cell_type": "code",
      "execution_count": null,
      "id": "0f259346",
      "metadata": {
        "id": "0f259346",
        "outputId": "858788cc-3eb8-43b1-8e8a-4cbf89a018d6"
      },
      "outputs": [
        {
          "name": "stdout",
          "output_type": "stream",
          "text": [
            "Concatenación de tuplas: ('a', 'b', 'c', 'd', 'e', 'f', 'g')\n"
          ]
        }
      ],
      "source": [
        "# Concatenar tuplas\n",
        "otra_tupla = ('f', 'g')\n",
        "concatenacion = mi_tupla + otra_tupla\n",
        "print(\"Concatenación de tuplas:\", concatenacion)"
      ]
    },
    {
      "cell_type": "code",
      "execution_count": null,
      "id": "1a643ed5",
      "metadata": {
        "id": "1a643ed5",
        "outputId": "2eec3e9b-1688-4459-de02-79634f920da0"
      },
      "outputs": [
        {
          "name": "stdout",
          "output_type": "stream",
          "text": [
            "Multiplicación de tupla: ('f', 'g', 'f', 'g', 'f', 'g')\n"
          ]
        }
      ],
      "source": [
        "# Multiplicar una tupla\n",
        "multiplicacion = otra_tupla * 3\n",
        "print(\"Multiplicación de tupla:\", multiplicacion)"
      ]
    },
    {
      "cell_type": "code",
      "execution_count": null,
      "id": "5974db43",
      "metadata": {
        "id": "5974db43",
        "outputId": "3e6affcf-36b7-4eb2-e547-fa96c59f82eb"
      },
      "outputs": [
        {
          "name": "stdout",
          "output_type": "stream",
          "text": [
            "Longitud de la tupla: 5\n"
          ]
        }
      ],
      "source": [
        "# Obtener la longitud de una tupla\n",
        "longitud = len(mi_tupla)\n",
        "print(\"Longitud de la tupla:\", longitud)"
      ]
    },
    {
      "cell_type": "code",
      "execution_count": null,
      "id": "4f23cec8",
      "metadata": {
        "id": "4f23cec8",
        "outputId": "d6649b14-c387-439f-f13f-cce58ff15edb"
      },
      "outputs": [
        {
          "name": "stdout",
          "output_type": "stream",
          "text": [
            "El elemento 'c' está en la tupla.\n"
          ]
        }
      ],
      "source": [
        "# Buscar un elemento en una tupla\n",
        "if 'c' in mi_tupla:\n",
        "    print(\"El elemento 'c' está en la tupla.\")\n",
        "else:\n",
        "    print(\"El elemento 'c' no está en la tupla.\")"
      ]
    },
    {
      "cell_type": "code",
      "execution_count": null,
      "id": "446165c5",
      "metadata": {
        "id": "446165c5",
        "outputId": "c0c42ee8-a5ed-428f-ddbe-d4aef3681ebb"
      },
      "outputs": [
        {
          "name": "stdout",
          "output_type": "stream",
          "text": [
            "Cantidad de veces que aparece 'b': 1\n"
          ]
        }
      ],
      "source": [
        "# Contar la cantidad de veces que aparece un elemento en una tupla\n",
        "cantidad = mi_tupla.count('b')\n",
        "print(\"Cantidad de veces que aparece 'b':\", cantidad)"
      ]
    },
    {
      "cell_type": "code",
      "execution_count": null,
      "id": "6cddd4bf",
      "metadata": {
        "id": "6cddd4bf",
        "outputId": "058ee721-9c86-450c-bac6-409c3f3f4036"
      },
      "outputs": [
        {
          "name": "stdout",
          "output_type": "stream",
          "text": [
            "Índice del elemento 'd': 3\n"
          ]
        }
      ],
      "source": [
        "# Encontrar el índice de un elemento en una tupla\n",
        "indice = mi_tupla.index('d')\n",
        "print(\"Índice del elemento 'd':\", indice)"
      ]
    },
    {
      "cell_type": "markdown",
      "id": "7dc01c94",
      "metadata": {
        "id": "7dc01c94"
      },
      "source": [
        "### Conjuntos\n",
        "\n",
        "Un conjunto en Python es una colección desordenada y mutable de elementos únicos. Puedes realizar operaciones de conjuntos como unión, intersección y diferencia entre conjuntos.\n",
        "\n"
      ]
    },
    {
      "cell_type": "code",
      "execution_count": null,
      "id": "1fdea3a4",
      "metadata": {
        "id": "1fdea3a4",
        "outputId": "8e97f298-6cba-4637-a2df-d2052b4d3bf2"
      },
      "outputs": [
        {
          "name": "stdout",
          "output_type": "stream",
          "text": [
            "Conjunto vacío: set()\n"
          ]
        }
      ],
      "source": [
        "# Crear un conjunto vacío\n",
        "conjunto_vacio = set()\n",
        "print(\"Conjunto vacío:\", conjunto_vacio)"
      ]
    },
    {
      "cell_type": "code",
      "execution_count": null,
      "id": "2a23ac90",
      "metadata": {
        "id": "2a23ac90",
        "outputId": "83c3e834-fa6c-485b-bbec-5e4b15fb9126"
      },
      "outputs": [
        {
          "name": "stdout",
          "output_type": "stream",
          "text": [
            "Conjunto: {1, 2, 3, 4, 5}\n"
          ]
        }
      ],
      "source": [
        "# Crear un conjunto con elementos\n",
        "mi_conjunto = {1, 2, 3, 4, 5}\n",
        "print(\"Conjunto:\", mi_conjunto)"
      ]
    },
    {
      "cell_type": "code",
      "execution_count": null,
      "id": "da4e399b",
      "metadata": {
        "id": "da4e399b",
        "outputId": "47918caf-0243-41d8-f381-bd9199ae2998"
      },
      "outputs": [
        {
          "name": "stdout",
          "output_type": "stream",
          "text": [
            "Conjunto después de agregar un elemento: {1, 2, 3, 4, 5, 6}\n"
          ]
        }
      ],
      "source": [
        "# Agregar elementos a un conjunto\n",
        "mi_conjunto.add(6)\n",
        "print(\"Conjunto después de agregar un elemento:\", mi_conjunto)"
      ]
    },
    {
      "cell_type": "code",
      "execution_count": null,
      "id": "82087a2f",
      "metadata": {
        "id": "82087a2f",
        "outputId": "8ede2699-7e58-4aea-cca9-6a792cca19ca"
      },
      "outputs": [
        {
          "name": "stdout",
          "output_type": "stream",
          "text": [
            "Conjunto después de eliminar un elemento: {1, 2, 4, 5, 6}\n"
          ]
        }
      ],
      "source": [
        "# Eliminar un elemento de un conjunto\n",
        "mi_conjunto.remove(3)\n",
        "print(\"Conjunto después de eliminar un elemento:\", mi_conjunto)"
      ]
    },
    {
      "cell_type": "code",
      "execution_count": null,
      "id": "6a46e639",
      "metadata": {
        "id": "6a46e639",
        "outputId": "1e85d73d-a2cb-4133-b37c-cf982a9f0b77"
      },
      "outputs": [
        {
          "name": "stdout",
          "output_type": "stream",
          "text": [
            "El elemento 4 está en el conjunto.\n"
          ]
        }
      ],
      "source": [
        "# Verificar si un elemento está en un conjunto\n",
        "if 4 in mi_conjunto:\n",
        "    print(\"El elemento 4 está en el conjunto.\")\n",
        "else:\n",
        "    print(\"El elemento 4 no está en el conjunto.\")"
      ]
    },
    {
      "cell_type": "code",
      "execution_count": null,
      "id": "b5d3f7de",
      "metadata": {
        "id": "b5d3f7de"
      },
      "outputs": [],
      "source": [
        "# Realizar operaciones de conjunto\n",
        "conjunto1 = {1, 2, 3, 4, 5}\n",
        "conjunto2 = {4, 5, 6, 7, 8}"
      ]
    },
    {
      "cell_type": "code",
      "execution_count": null,
      "id": "fe1618f6",
      "metadata": {
        "id": "fe1618f6",
        "outputId": "7fdb53b7-4ab6-4f32-a192-1192a3f53646"
      },
      "outputs": [
        {
          "name": "stdout",
          "output_type": "stream",
          "text": [
            "Unión de conjuntos: {1, 2, 3, 4, 5, 6, 7, 8}\n"
          ]
        }
      ],
      "source": [
        "# Unión de conjuntos\n",
        "union = conjunto1.union(conjunto2)\n",
        "print(\"Unión de conjuntos:\", union)"
      ]
    },
    {
      "cell_type": "code",
      "execution_count": null,
      "id": "dd41bad1",
      "metadata": {
        "id": "dd41bad1",
        "outputId": "6f555321-ca41-4a82-c4f6-44727d367650"
      },
      "outputs": [
        {
          "name": "stdout",
          "output_type": "stream",
          "text": [
            "Intersección de conjuntos: {4, 5}\n"
          ]
        }
      ],
      "source": [
        "# Intersección de conjuntos\n",
        "interseccion = conjunto1.intersection(conjunto2)\n",
        "print(\"Intersección de conjuntos:\", interseccion)"
      ]
    },
    {
      "cell_type": "code",
      "execution_count": null,
      "id": "1ca83279",
      "metadata": {
        "id": "1ca83279",
        "outputId": "368b1603-1325-40cc-ffcf-fa555b57d0c6"
      },
      "outputs": [
        {
          "name": "stdout",
          "output_type": "stream",
          "text": [
            "Diferencia entre conjuntos 1 y 2: {1, 2, 3}\n"
          ]
        }
      ],
      "source": [
        "# Diferencia entre conjuntos\n",
        "diferencia = conjunto1.difference(conjunto2)\n",
        "print(\"Diferencia entre conjuntos 1 y 2:\", diferencia)"
      ]
    },
    {
      "cell_type": "code",
      "execution_count": null,
      "id": "ddb1611d",
      "metadata": {
        "id": "ddb1611d",
        "outputId": "1e417c9d-913d-4e48-faf0-b005c772b171"
      },
      "outputs": [
        {
          "name": "stdout",
          "output_type": "stream",
          "text": [
            "El conjunto 1 no es un subconjunto del conjunto 2.\n"
          ]
        }
      ],
      "source": [
        "# Comprobar si un conjunto es subconjunto de otro\n",
        "if conjunto1.issubset(conjunto2):\n",
        "    print(\"El conjunto 1 es un subconjunto del conjunto 2.\")\n",
        "else:\n",
        "    print(\"El conjunto 1 no es un subconjunto del conjunto 2.\")"
      ]
    },
    {
      "cell_type": "code",
      "execution_count": null,
      "id": "4e08ef8d",
      "metadata": {
        "id": "4e08ef8d",
        "outputId": "fbbfeda0-ae22-4e82-f27d-c71f105c466c"
      },
      "outputs": [
        {
          "name": "stdout",
          "output_type": "stream",
          "text": [
            "Conjunto 1 después de vaciarlo: set()\n"
          ]
        }
      ],
      "source": [
        "# Vaciar un conjunto\n",
        "conjunto1.clear()\n",
        "print(\"Conjunto 1 después de vaciarlo:\", conjunto1)"
      ]
    },
    {
      "cell_type": "markdown",
      "id": "1b4c68e9",
      "metadata": {
        "id": "1b4c68e9"
      },
      "source": [
        "### Diccionarios\n",
        "\n",
        "Un diccionario en Python es una colección desordenada y mutable de pares clave-valor. Puedes acceder a los valores utilizando las claves, y puedes agregar, modificar o eliminar elementos del diccionario."
      ]
    },
    {
      "cell_type": "code",
      "execution_count": null,
      "id": "0f966928",
      "metadata": {
        "id": "0f966928",
        "outputId": "e200d56d-10d8-4535-ecc7-749c01276eec"
      },
      "outputs": [
        {
          "name": "stdout",
          "output_type": "stream",
          "text": [
            "Diccionario vacío: {}\n"
          ]
        }
      ],
      "source": [
        "# Crear un diccionario vacío\n",
        "diccionario_vacio = {}\n",
        "print(\"Diccionario vacío:\", diccionario_vacio)"
      ]
    },
    {
      "cell_type": "code",
      "execution_count": null,
      "id": "92123d67",
      "metadata": {
        "id": "92123d67",
        "outputId": "1fa0919d-5b7f-4b6c-aca1-f803ea4a837e"
      },
      "outputs": [
        {
          "name": "stdout",
          "output_type": "stream",
          "text": [
            "Diccionario: {'nombre': 'Juan', 'edad': 30, 'ciudad': 'Madrid'}\n"
          ]
        }
      ],
      "source": [
        "# Crear un diccionario con elementos\n",
        "mi_diccionario = {\"nombre\": \"Juan\", \"edad\": 30, \"ciudad\": \"Madrid\"}\n",
        "print(\"Diccionario:\", mi_diccionario)"
      ]
    },
    {
      "cell_type": "code",
      "execution_count": null,
      "id": "658c619c",
      "metadata": {
        "id": "658c619c",
        "outputId": "3f8e65ed-29ef-456f-ae61-e84af5aeab8f"
      },
      "outputs": [
        {
          "name": "stdout",
          "output_type": "stream",
          "text": [
            "Nombre: Juan\n",
            "Edad: 30\n"
          ]
        }
      ],
      "source": [
        "# Acceder a valores utilizando claves\n",
        "print(\"Nombre:\", mi_diccionario[\"nombre\"])\n",
        "print(\"Edad:\", mi_diccionario[\"edad\"])"
      ]
    },
    {
      "cell_type": "code",
      "execution_count": null,
      "id": "e49c70aa",
      "metadata": {
        "id": "e49c70aa",
        "outputId": "1ff4ac9f-519a-4dce-bdea-0b1f1098da8c"
      },
      "outputs": [
        {
          "name": "stdout",
          "output_type": "stream",
          "text": [
            "Diccionario después de modificar la edad: {'nombre': 'Juan', 'edad': 31, 'ciudad': 'Madrid'}\n"
          ]
        }
      ],
      "source": [
        "# Modificar valores en un diccionario\n",
        "mi_diccionario[\"edad\"] = 31\n",
        "print(\"Diccionario después de modificar la edad:\", mi_diccionario)"
      ]
    },
    {
      "cell_type": "code",
      "execution_count": null,
      "id": "960046b7",
      "metadata": {
        "id": "960046b7",
        "outputId": "9d9980b5-0db6-4821-f108-426ba095c6b8"
      },
      "outputs": [
        {
          "name": "stdout",
          "output_type": "stream",
          "text": [
            "Diccionario después de agregar una profesión: {'nombre': 'Juan', 'edad': 31, 'ciudad': 'Madrid', 'profesión': 'Ingeniero'}\n"
          ]
        }
      ],
      "source": [
        "# Agregar un nuevo par clave-valor\n",
        "mi_diccionario[\"profesión\"] = \"Ingeniero\"\n",
        "print(\"Diccionario después de agregar una profesión:\", mi_diccionario)"
      ]
    },
    {
      "cell_type": "code",
      "execution_count": null,
      "id": "ba2327e6",
      "metadata": {
        "id": "ba2327e6",
        "outputId": "4795216e-f696-44d9-f522-de616d154d2f"
      },
      "outputs": [
        {
          "name": "stdout",
          "output_type": "stream",
          "text": [
            "Diccionario después de eliminar la ciudad: {'nombre': 'Juan', 'edad': 31, 'profesión': 'Ingeniero'}\n"
          ]
        }
      ],
      "source": [
        "# Eliminar un par clave-valor\n",
        "del mi_diccionario[\"ciudad\"]\n",
        "print(\"Diccionario después de eliminar la ciudad:\", mi_diccionario)"
      ]
    },
    {
      "cell_type": "code",
      "execution_count": null,
      "id": "c989f4bf",
      "metadata": {
        "id": "c989f4bf",
        "outputId": "d9e32414-7036-4edc-9fb8-1660652e599b"
      },
      "outputs": [
        {
          "name": "stdout",
          "output_type": "stream",
          "text": [
            "La clave 'nombre' está en el diccionario.\n"
          ]
        }
      ],
      "source": [
        "# Verificar si una clave está en el diccionario\n",
        "if \"nombre\" in mi_diccionario:\n",
        "    print(\"La clave 'nombre' está en el diccionario.\")\n",
        "else:\n",
        "    print(\"La clave 'nombre' no está en el diccionario.\")"
      ]
    },
    {
      "cell_type": "code",
      "execution_count": null,
      "id": "441b22d5",
      "metadata": {
        "id": "441b22d5",
        "outputId": "950554cb-3256-4d2f-bd5f-9ccaf75f9d0b"
      },
      "outputs": [
        {
          "name": "stdout",
          "output_type": "stream",
          "text": [
            "Claves del diccionario: dict_keys(['nombre', 'edad', 'profesión'])\n",
            "Valores del diccionario: dict_values(['Juan', 31, 'Ingeniero'])\n"
          ]
        }
      ],
      "source": [
        "# Obtener todas las claves y valores del diccionario\n",
        "claves = mi_diccionario.keys()\n",
        "print(\"Claves del diccionario:\", claves)\n",
        "valores = mi_diccionario.values()\n",
        "print(\"Valores del diccionario:\", valores)"
      ]
    },
    {
      "cell_type": "code",
      "execution_count": null,
      "id": "beba8a8b",
      "metadata": {
        "id": "beba8a8b",
        "outputId": "f8b191eb-fc57-47e0-bd6d-cd883bc7f1e3"
      },
      "outputs": [
        {
          "name": "stdout",
          "output_type": "stream",
          "text": [
            "Pares clave-valor del diccionario: dict_items([('nombre', 'Juan'), ('edad', 31), ('profesión', 'Ingeniero')])\n"
          ]
        }
      ],
      "source": [
        "# Obtener pares clave-valor del diccionario como tuplas\n",
        "items = mi_diccionario.items()\n",
        "print(\"Pares clave-valor del diccionario:\", items)"
      ]
    },
    {
      "cell_type": "code",
      "execution_count": null,
      "id": "3824a0f1",
      "metadata": {
        "id": "3824a0f1",
        "outputId": "7fca6861-aa12-46ab-8e26-3f1492a1ca69"
      },
      "outputs": [
        {
          "name": "stdout",
          "output_type": "stream",
          "text": [
            "Copia del diccionario: {'nombre': 'Juan', 'edad': 31, 'profesión': 'Ingeniero'}\n"
          ]
        }
      ],
      "source": [
        "# Copiar un diccionario\n",
        "copia_diccionario = mi_diccionario.copy()\n",
        "print(\"Copia del diccionario:\", copia_diccionario)"
      ]
    },
    {
      "cell_type": "code",
      "execution_count": null,
      "id": "8be0bfd6",
      "metadata": {
        "id": "8be0bfd6",
        "outputId": "de5aa98e-d01d-4869-a749-99aefa1e7aa9"
      },
      "outputs": [
        {
          "name": "stdout",
          "output_type": "stream",
          "text": [
            "Diccionario después de vaciarlo: {}\n"
          ]
        }
      ],
      "source": [
        "# Vaciar un diccionario\n",
        "mi_diccionario.clear()\n",
        "print(\"Diccionario después de vaciarlo:\", mi_diccionario)"
      ]
    },
    {
      "cell_type": "markdown",
      "id": "14509c28",
      "metadata": {
        "id": "14509c28"
      },
      "source": [
        "## Funciones\n",
        "\n",
        "<img src=\"https://teachen.info/cspp/_images/funcheader.svg\" width = \"500\" align=\"center\"/>"
      ]
    },
    {
      "cell_type": "markdown",
      "id": "fe24884c",
      "metadata": {
        "id": "fe24884c"
      },
      "source": [
        "### Definiciones\n",
        "\n",
        "Una función es un bloque de código que realiza una tarea específica y puede ser llamado desde cualquier parte del programa. Las funciones pueden tener parámetros (datos que se pasan a la función) y pueden devolver un resultado. Al utilizar funciones, podemos dividir el código en partes más pequeñas y manejables, lo que facilita la comprensión y la depuración.\n",
        "\n",
        "### Sintaxis\n",
        "La sintaxis básica de una función en Python es la siguiente:\n",
        "\n",
        "```python\n",
        "def nombre_funcion(parametros):\n",
        "    # Cuerpo de la función\n",
        "    # Realizar operaciones\n",
        "    return resultado\n",
        "```\n",
        "\n",
        "- **def**: Es una palabra clave que indica que se está definiendo una función.\n",
        "- **nombre_funcion**: Es el nombre que le damos a la función. Debe seguir las mismas reglas de nomenclatura que las variables.\n",
        "- **parámetros**: Son los datos que la función espera recibir. Pueden ser opcionales.\n",
        "- **return**: Es una palabra clave que indica el valor que la función devolverá. Puede devolver cero o más valores."
      ]
    },
    {
      "cell_type": "code",
      "execution_count": null,
      "id": "93772111",
      "metadata": {
        "id": "93772111",
        "outputId": "c78ad3bd-3eed-454a-bd8a-329a5a0a1aee"
      },
      "outputs": [
        {
          "name": "stdout",
          "output_type": "stream",
          "text": [
            "¡Hola!\n"
          ]
        }
      ],
      "source": [
        "# Definir una función sin parámetros y sin valor de retorno\n",
        "def saludar():\n",
        "    print(\"¡Hola!\")\n",
        "\n",
        "# Llamar a la función\n",
        "saludar()"
      ]
    },
    {
      "cell_type": "code",
      "execution_count": null,
      "id": "cd6c182c",
      "metadata": {
        "id": "cd6c182c",
        "outputId": "41f97cd8-307d-4b90-e5fe-98825b9867d1"
      },
      "outputs": [
        {
          "name": "stdout",
          "output_type": "stream",
          "text": [
            "¡Hola, Juan !\n"
          ]
        }
      ],
      "source": [
        "# Definir una función con parámetros y sin valor de retorno\n",
        "def saludar_persona(nombre):\n",
        "    print(\"¡Hola,\", nombre, \"!\")\n",
        "\n",
        "# Llamar a la función con un argumento\n",
        "saludar_persona(\"Juan\")"
      ]
    },
    {
      "cell_type": "code",
      "execution_count": null,
      "id": "1959169f",
      "metadata": {
        "id": "1959169f",
        "outputId": "82dbffb9-a63c-4c8f-eb90-efd1c135b8dd"
      },
      "outputs": [
        {
          "name": "stdout",
          "output_type": "stream",
          "text": [
            "Resultado de la suma: 8\n"
          ]
        }
      ],
      "source": [
        "# Definir una función con parámetros y con valor de retorno\n",
        "def sumar(a, b):\n",
        "    return a + b\n",
        "\n",
        "# Llamar a la función y almacenar el resultado en una variable\n",
        "resultado = sumar(3, 5)\n",
        "print(\"Resultado de la suma:\", resultado)"
      ]
    },
    {
      "cell_type": "code",
      "execution_count": null,
      "id": "6ee19b66",
      "metadata": {
        "id": "6ee19b66",
        "outputId": "371dc082-dd1d-40b6-fbe4-b8a9cb985832"
      },
      "outputs": [
        {
          "name": "stdout",
          "output_type": "stream",
          "text": [
            "Resultado de la multiplicación (con valor predeterminado): 6\n",
            "Resultado de la multiplicación (con argumento específico): 12\n"
          ]
        }
      ],
      "source": [
        "# Función con parámetros con valores predeterminados\n",
        "def multiplicar(a, b=2):\n",
        "    return a * b\n",
        "\n",
        "# Llamar a la función con un solo argumento\n",
        "resultado1 = multiplicar(3)\n",
        "print(\"Resultado de la multiplicación (con valor predeterminado):\", resultado1)\n",
        "\n",
        "# Llamar a la función con dos argumentos\n",
        "resultado2 = multiplicar(3, 4)\n",
        "print(\"Resultado de la multiplicación (con argumento específico):\", resultado2)"
      ]
    },
    {
      "cell_type": "code",
      "execution_count": null,
      "id": "cc86f227",
      "metadata": {
        "id": "cc86f227",
        "outputId": "318284d1-b1d1-4c01-df30-9666ba49a396"
      },
      "outputs": [
        {
          "name": "stdout",
          "output_type": "stream",
          "text": [
            "Promedio de 2, 4 y 6: 4.0\n",
            "Promedio de 1, 3, 5, 7 y 9: 5.0\n"
          ]
        }
      ],
      "source": [
        "# Función con un número variable de argumentos\n",
        "def promedio(*args):\n",
        "    return sum(args) / len(args)\n",
        "\n",
        "# Llamar a la función con diferentes cantidades de argumentos\n",
        "resultado1 = promedio(2, 4, 6)\n",
        "print(\"Promedio de 2, 4 y 6:\", resultado1)\n",
        "\n",
        "resultado2 = promedio(1, 3, 5, 7, 9)\n",
        "print(\"Promedio de 1, 3, 5, 7 y 9:\", resultado2)"
      ]
    },
    {
      "cell_type": "code",
      "execution_count": null,
      "id": "37a97198",
      "metadata": {
        "id": "37a97198",
        "outputId": "9aaade63-2b2a-414e-9917-5fcb5bf137f8"
      },
      "outputs": [
        {
          "name": "stdout",
          "output_type": "stream",
          "text": [
            "Nombre: Ana\n",
            "Edad: 25\n"
          ]
        }
      ],
      "source": [
        "# Función con argumentos de palabra clave\n",
        "def mostrar_info(nombre, edad):\n",
        "    print(\"Nombre:\", nombre)\n",
        "    print(\"Edad:\", edad)\n",
        "\n",
        "# Llamar a la función utilizando argumentos de palabra clave\n",
        "mostrar_info(nombre=\"Ana\", edad=25)"
      ]
    },
    {
      "cell_type": "code",
      "execution_count": null,
      "id": "8c4ce334",
      "metadata": {
        "id": "8c4ce334",
        "outputId": "7ec377ac-51c1-4b4d-ae4e-26a7bdeae429"
      },
      "outputs": [
        {
          "name": "stdout",
          "output_type": "stream",
          "text": [
            "Cociente: 3\n",
            "Resto: 1\n"
          ]
        }
      ],
      "source": [
        "# Función con retorno de múltiples valores\n",
        "def dividir(a, b):\n",
        "    cociente = a // b\n",
        "    resto = a % b\n",
        "    return cociente, resto\n",
        "\n",
        "# Llamar a la función y almacenar los valores de retorno en variables separadas\n",
        "cociente, resto = dividir(10, 3)\n",
        "print(\"Cociente:\", cociente)\n",
        "print(\"Resto:\", resto)"
      ]
    },
    {
      "cell_type": "code",
      "execution_count": null,
      "id": "88bfd0da",
      "metadata": {
        "id": "88bfd0da",
        "outputId": "6bc99360-f502-453a-bca6-678098883264"
      },
      "outputs": [
        {
          "name": "stdout",
          "output_type": "stream",
          "text": [
            "Función exterior\n",
            "Función interior\n"
          ]
        }
      ],
      "source": [
        "# Funciones anidadas\n",
        "def exterior():\n",
        "    print(\"Función exterior\")\n",
        "\n",
        "    def interior():\n",
        "        print(\"Función interior\")\n",
        "\n",
        "    interior()\n",
        "\n",
        "# Llamar a la función exterior, que también llama a la función interior\n",
        "exterior()"
      ]
    },
    {
      "cell_type": "markdown",
      "id": "5cdfd48a",
      "metadata": {
        "id": "5cdfd48a"
      },
      "source": [
        "## Excepciones\n",
        "\n",
        "<img src=\"https://teachen.info/cspp/_images/errormsg.svg\" width = \"600\" align=\"center\"/>"
      ]
    },
    {
      "cell_type": "markdown",
      "id": "e403117a",
      "metadata": {
        "id": "e403117a"
      },
      "source": [
        "En Python, los errores se dividen principalmente en tres categorías: errores de sintaxis, excepciones y errores semánticos. Cada uno de estos tipos de errores tiene sus propias características y se manejan de manera diferente en el código."
      ]
    },
    {
      "cell_type": "markdown",
      "id": "ea126ca2",
      "metadata": {
        "id": "ea126ca2"
      },
      "source": [
        "### Errores de Sintaxis\n",
        "\n",
        "Los errores de sintaxis en Python ocurren cuando el código no sigue las reglas gramaticales del lenguaje. Estos errores se detectan durante la fase de análisis del código y generalmente provocan que el intérprete de Python detenga la ejecución del programa y muestre un mensaje de error que indica la ubicación y la naturaleza del error. Aquí hay una lista de algunos errores de sintaxis comunes y ejemplos de cómo corregirlos:"
      ]
    },
    {
      "cell_type": "markdown",
      "id": "95ac1f2a",
      "metadata": {
        "id": "95ac1f2a"
      },
      "source": [
        "**Falta de paréntesis, corchetes o llaves**"
      ]
    },
    {
      "cell_type": "code",
      "execution_count": null,
      "id": "2191c696",
      "metadata": {
        "id": "2191c696",
        "outputId": "6833a992-0962-4dbc-a5ae-993c046d2895"
      },
      "outputs": [
        {
          "ename": "SyntaxError",
          "evalue": "unexpected EOF while parsing (772037202.py, line 2)",
          "output_type": "error",
          "traceback": [
            "\u001b[1;36m  Cell \u001b[1;32mIn[73], line 2\u001b[1;36m\u001b[0m\n\u001b[1;33m    print(\"Hola mundo\"\u001b[0m\n\u001b[1;37m                      ^\u001b[0m\n\u001b[1;31mSyntaxError\u001b[0m\u001b[1;31m:\u001b[0m unexpected EOF while parsing\n"
          ]
        }
      ],
      "source": [
        "# Error de sintaxis: Falta un paréntesis de cierre\n",
        "print(\"Hola mundo\""
      ]
    },
    {
      "cell_type": "markdown",
      "id": "23ad0a41",
      "metadata": {
        "id": "23ad0a41"
      },
      "source": [
        "**Falta de comillas**"
      ]
    },
    {
      "cell_type": "code",
      "execution_count": null,
      "id": "a82109b3",
      "metadata": {
        "id": "a82109b3",
        "outputId": "11fbb1fb-33ed-4480-d8ce-adf42cc40deb"
      },
      "outputs": [
        {
          "ename": "SyntaxError",
          "evalue": "EOL while scanning string literal (3170818782.py, line 2)",
          "output_type": "error",
          "traceback": [
            "\u001b[1;36m  Cell \u001b[1;32mIn[74], line 2\u001b[1;36m\u001b[0m\n\u001b[1;33m    mensaje = \"Hola mundo\u001b[0m\n\u001b[1;37m                         ^\u001b[0m\n\u001b[1;31mSyntaxError\u001b[0m\u001b[1;31m:\u001b[0m EOL while scanning string literal\n"
          ]
        }
      ],
      "source": [
        "# Error de sintaxis: Falta una comilla de cierre\n",
        "mensaje = \"Hola mundo"
      ]
    },
    {
      "cell_type": "markdown",
      "id": "c6056903",
      "metadata": {
        "id": "c6056903"
      },
      "source": [
        "**Falta de dos puntos**"
      ]
    },
    {
      "cell_type": "code",
      "execution_count": null,
      "id": "2cd6824e",
      "metadata": {
        "id": "2cd6824e",
        "outputId": "6eb32b40-01c5-4f9c-8a0f-1f0d595ce8b9"
      },
      "outputs": [
        {
          "ename": "SyntaxError",
          "evalue": "invalid syntax (2408425682.py, line 2)",
          "output_type": "error",
          "traceback": [
            "\u001b[1;36m  Cell \u001b[1;32mIn[75], line 2\u001b[1;36m\u001b[0m\n\u001b[1;33m    if True\u001b[0m\n\u001b[1;37m           ^\u001b[0m\n\u001b[1;31mSyntaxError\u001b[0m\u001b[1;31m:\u001b[0m invalid syntax\n"
          ]
        }
      ],
      "source": [
        "# Error de sintaxis: Falta dos puntos al final de la declaración if\n",
        "if True\n",
        "    print(\"Es verdadero\")\n",
        "# Solución: Agregar dos puntos al final de la declaración if\n",
        "if True:\n",
        "    print(\"Es verdadero\")"
      ]
    },
    {
      "cell_type": "markdown",
      "id": "a75f57c3",
      "metadata": {
        "id": "a75f57c3"
      },
      "source": [
        "**Indentación incorrecta**"
      ]
    },
    {
      "cell_type": "code",
      "execution_count": null,
      "id": "f4f95b22",
      "metadata": {
        "id": "f4f95b22",
        "outputId": "fbf84e1a-252d-4282-a68f-196d5ac8c1a6"
      },
      "outputs": [
        {
          "ename": "IndentationError",
          "evalue": "expected an indented block (4041088692.py, line 3)",
          "output_type": "error",
          "traceback": [
            "\u001b[1;36m  Cell \u001b[1;32mIn[76], line 3\u001b[1;36m\u001b[0m\n\u001b[1;33m    print(\"Es verdadero\")\u001b[0m\n\u001b[1;37m    ^\u001b[0m\n\u001b[1;31mIndentationError\u001b[0m\u001b[1;31m:\u001b[0m expected an indented block\n"
          ]
        }
      ],
      "source": [
        "# Error de sintaxis: Declaración indentada incorrectamente\n",
        "if True:\n",
        "print(\"Es verdadero\")"
      ]
    },
    {
      "cell_type": "markdown",
      "id": "bbbce495",
      "metadata": {
        "id": "bbbce495"
      },
      "source": [
        "**Uso incorrecto de palabras clave**"
      ]
    },
    {
      "cell_type": "code",
      "execution_count": null,
      "id": "c9d8683f",
      "metadata": {
        "id": "c9d8683f",
        "outputId": "91d3340b-3b74-4272-f137-cf7797ff1fbb"
      },
      "outputs": [
        {
          "ename": "SyntaxError",
          "evalue": "invalid syntax (235475069.py, line 4)",
          "output_type": "error",
          "traceback": [
            "\u001b[1;36m  Cell \u001b[1;32mIn[77], line 4\u001b[1;36m\u001b[0m\n\u001b[1;33m    elsee:\u001b[0m\n\u001b[1;37m          ^\u001b[0m\n\u001b[1;31mSyntaxError\u001b[0m\u001b[1;31m:\u001b[0m invalid syntax\n"
          ]
        }
      ],
      "source": [
        "# Error de sintaxis: Uso incorrecto de la palabra clave 'else'\n",
        "if True:\n",
        "    print(\"Es verdadero\")\n",
        "elsee:\n",
        "    print(\"Es falso\")"
      ]
    },
    {
      "cell_type": "markdown",
      "id": "4e22f20a",
      "metadata": {
        "id": "4e22f20a"
      },
      "source": [
        "### Excepciones\n",
        "\n",
        "Las excepciones en Python son eventos que ocurren durante la ejecución del programa y pueden alterar el flujo normal de ejecución. Cuando una excepción se produce, Python detiene la ejecución del programa y busca un bloque de código que pueda manejar la excepción. Aquí se presentan algunos tipos comunes de excepciones en Python y cómo manejarlos:"
      ]
    },
    {
      "cell_type": "markdown",
      "id": "df30d284",
      "metadata": {
        "id": "df30d284"
      },
      "source": [
        "**Excepción de tipo `SyntaxError`**"
      ]
    },
    {
      "cell_type": "code",
      "execution_count": null,
      "id": "c15da9d2",
      "metadata": {
        "id": "c15da9d2",
        "outputId": "56ab8268-568b-49cf-b0a3-9b4e750ad2ad"
      },
      "outputs": [
        {
          "ename": "SyntaxError",
          "evalue": "unexpected EOF while parsing (772037202.py, line 2)",
          "output_type": "error",
          "traceback": [
            "\u001b[1;36m  Cell \u001b[1;32mIn[78], line 2\u001b[1;36m\u001b[0m\n\u001b[1;33m    print(\"Hola mundo\"\u001b[0m\n\u001b[1;37m                      ^\u001b[0m\n\u001b[1;31mSyntaxError\u001b[0m\u001b[1;31m:\u001b[0m unexpected EOF while parsing\n"
          ]
        }
      ],
      "source": [
        "# Error de sintaxis: Falta un paréntesis de cierre\n",
        "print(\"Hola mundo\""
      ]
    },
    {
      "cell_type": "markdown",
      "id": "ec2feede",
      "metadata": {
        "id": "ec2feede"
      },
      "source": [
        "**Excepción de tipo `NameError`**"
      ]
    },
    {
      "cell_type": "code",
      "execution_count": null,
      "id": "d59a8d9a",
      "metadata": {
        "id": "d59a8d9a",
        "outputId": "4b39fb20-03ab-4aa8-dc3d-48b1ad58fb35"
      },
      "outputs": [
        {
          "ename": "NameError",
          "evalue": "name 'variable_no_definida' is not defined",
          "output_type": "error",
          "traceback": [
            "\u001b[1;31m---------------------------------------------------------------------------\u001b[0m",
            "\u001b[1;31mNameError\u001b[0m                                 Traceback (most recent call last)",
            "Cell \u001b[1;32mIn[79], line 2\u001b[0m\n\u001b[0;32m      1\u001b[0m \u001b[38;5;66;03m# Error de nombre: Variable no definida\u001b[39;00m\n\u001b[1;32m----> 2\u001b[0m \u001b[38;5;28mprint\u001b[39m(\u001b[43mvariable_no_definida\u001b[49m)\n",
            "\u001b[1;31mNameError\u001b[0m: name 'variable_no_definida' is not defined"
          ]
        }
      ],
      "source": [
        "# Error de nombre: Variable no definida\n",
        "print(variable_no_definida)"
      ]
    },
    {
      "cell_type": "markdown",
      "id": "d414d3d7",
      "metadata": {
        "id": "d414d3d7"
      },
      "source": [
        "**Excepción de tipo `TypeError`**"
      ]
    },
    {
      "cell_type": "code",
      "execution_count": null,
      "id": "c5f4f91d",
      "metadata": {
        "id": "c5f4f91d",
        "outputId": "375b51ea-1a43-4551-fba3-5c5172104680"
      },
      "outputs": [
        {
          "ename": "TypeError",
          "evalue": "unsupported operand type(s) for +: 'int' and 'str'",
          "output_type": "error",
          "traceback": [
            "\u001b[1;31m---------------------------------------------------------------------------\u001b[0m",
            "\u001b[1;31mTypeError\u001b[0m                                 Traceback (most recent call last)",
            "Cell \u001b[1;32mIn[80], line 2\u001b[0m\n\u001b[0;32m      1\u001b[0m \u001b[38;5;66;03m# Error de tipo: Suma entre tipos incompatibles\u001b[39;00m\n\u001b[1;32m----> 2\u001b[0m resultado \u001b[38;5;241m=\u001b[39m \u001b[38;5;241;43m10\u001b[39;49m\u001b[43m \u001b[49m\u001b[38;5;241;43m+\u001b[39;49m\u001b[43m \u001b[49m\u001b[38;5;124;43m\"\u001b[39;49m\u001b[38;5;124;43m20\u001b[39;49m\u001b[38;5;124;43m\"\u001b[39;49m\n",
            "\u001b[1;31mTypeError\u001b[0m: unsupported operand type(s) for +: 'int' and 'str'"
          ]
        }
      ],
      "source": [
        "# Error de tipo: Suma entre tipos incompatibles\n",
        "resultado = 10 + \"20\""
      ]
    },
    {
      "cell_type": "markdown",
      "id": "15b7f092",
      "metadata": {
        "id": "15b7f092"
      },
      "source": [
        "**Excepción de tipo `ValueError`**"
      ]
    },
    {
      "cell_type": "code",
      "execution_count": null,
      "id": "c0c924be",
      "metadata": {
        "id": "c0c924be",
        "outputId": "816503ee-c664-4980-e5f5-0a5415d853f5"
      },
      "outputs": [
        {
          "ename": "ValueError",
          "evalue": "math domain error",
          "output_type": "error",
          "traceback": [
            "\u001b[1;31m---------------------------------------------------------------------------\u001b[0m",
            "\u001b[1;31mValueError\u001b[0m                                Traceback (most recent call last)",
            "Cell \u001b[1;32mIn[81], line 3\u001b[0m\n\u001b[0;32m      1\u001b[0m \u001b[38;5;66;03m# Error de valor: Argumento fuera de rango\u001b[39;00m\n\u001b[0;32m      2\u001b[0m \u001b[38;5;28;01mimport\u001b[39;00m \u001b[38;5;21;01mmath\u001b[39;00m\n\u001b[1;32m----> 3\u001b[0m raiz_negativa \u001b[38;5;241m=\u001b[39m \u001b[43mmath\u001b[49m\u001b[38;5;241;43m.\u001b[39;49m\u001b[43msqrt\u001b[49m\u001b[43m(\u001b[49m\u001b[38;5;241;43m-\u001b[39;49m\u001b[38;5;241;43m9\u001b[39;49m\u001b[43m)\u001b[49m\n",
            "\u001b[1;31mValueError\u001b[0m: math domain error"
          ]
        }
      ],
      "source": [
        "# Error de valor: Argumento fuera de rango\n",
        "import math\n",
        "raiz_negativa = math.sqrt(-9)"
      ]
    },
    {
      "cell_type": "markdown",
      "id": "3cc6b9e5",
      "metadata": {
        "id": "3cc6b9e5"
      },
      "source": [
        "**Excepción de tipo `ZeroDivisionError`**"
      ]
    },
    {
      "cell_type": "code",
      "execution_count": null,
      "id": "bd3219f1",
      "metadata": {
        "id": "bd3219f1",
        "outputId": "47407c71-28e8-471b-960a-08dd7bb0a0b8"
      },
      "outputs": [
        {
          "ename": "ZeroDivisionError",
          "evalue": "division by zero",
          "output_type": "error",
          "traceback": [
            "\u001b[1;31m---------------------------------------------------------------------------\u001b[0m",
            "\u001b[1;31mZeroDivisionError\u001b[0m                         Traceback (most recent call last)",
            "Cell \u001b[1;32mIn[82], line 2\u001b[0m\n\u001b[0;32m      1\u001b[0m \u001b[38;5;66;03m# Error de división por cero\u001b[39;00m\n\u001b[1;32m----> 2\u001b[0m division \u001b[38;5;241m=\u001b[39m \u001b[38;5;241;43m10\u001b[39;49m\u001b[43m \u001b[49m\u001b[38;5;241;43m/\u001b[39;49m\u001b[43m \u001b[49m\u001b[38;5;241;43m0\u001b[39;49m\n",
            "\u001b[1;31mZeroDivisionError\u001b[0m: division by zero"
          ]
        }
      ],
      "source": [
        "# Error de división por cero\n",
        "division = 10 / 0"
      ]
    },
    {
      "cell_type": "markdown",
      "id": "68e98a08",
      "metadata": {
        "id": "68e98a08"
      },
      "source": [
        "**Excepción de tipo `OverflowError`**"
      ]
    },
    {
      "cell_type": "code",
      "execution_count": null,
      "id": "65b8dd34",
      "metadata": {
        "id": "65b8dd34",
        "outputId": "ada8ac9d-e170-4da8-98d6-000502a27744"
      },
      "outputs": [
        {
          "ename": "OverflowError",
          "evalue": "(34, 'Result too large')",
          "output_type": "error",
          "traceback": [
            "\u001b[1;31m---------------------------------------------------------------------------\u001b[0m",
            "\u001b[1;31mOverflowError\u001b[0m                             Traceback (most recent call last)",
            "Cell \u001b[1;32mIn[83], line 2\u001b[0m\n\u001b[0;32m      1\u001b[0m \u001b[38;5;66;03m# Error de desbordamiento: Número demasiado grande para ser representado\u001b[39;00m\n\u001b[1;32m----> 2\u001b[0m numero_grande \u001b[38;5;241m=\u001b[39m \u001b[38;5;241;43m20.0\u001b[39;49m\u001b[43m \u001b[49m\u001b[38;5;241;43m*\u001b[39;49m\u001b[38;5;241;43m*\u001b[39;49m\u001b[43m \u001b[49m\u001b[38;5;241;43m20.0\u001b[39;49m\u001b[43m \u001b[49m\u001b[38;5;241;43m*\u001b[39;49m\u001b[38;5;241;43m*\u001b[39;49m\u001b[43m \u001b[49m\u001b[38;5;241;43m20.0\u001b[39;49m\n",
            "\u001b[1;31mOverflowError\u001b[0m: (34, 'Result too large')"
          ]
        }
      ],
      "source": [
        "# Error de desbordamiento: Número demasiado grande para ser representado\n",
        "numero_grande = 20.0 ** 20.0 ** 20.0"
      ]
    },
    {
      "cell_type": "markdown",
      "id": "d7f6770e",
      "metadata": {
        "id": "d7f6770e"
      },
      "source": [
        "**Manejo de Excepciones**\n"
      ]
    },
    {
      "cell_type": "code",
      "execution_count": null,
      "id": "b945aad7",
      "metadata": {
        "id": "b945aad7",
        "outputId": "461701b3-4cf0-4a84-f23b-2e751866148a"
      },
      "outputs": [
        {
          "name": "stdout",
          "output_type": "stream",
          "text": [
            "Error: División por cero\n"
          ]
        }
      ],
      "source": [
        "try:\n",
        "    # Código propenso a generar una excepción\n",
        "    resultado = 10 / 0\n",
        "except ZeroDivisionError:\n",
        "    # Manejar la excepción\n",
        "    print(\"Error: División por cero\")"
      ]
    },
    {
      "cell_type": "markdown",
      "id": "89afb7b0",
      "metadata": {
        "id": "89afb7b0"
      },
      "source": [
        "### Errores Semánticos\n",
        "\n",
        "Los errores semánticos en Python son más difíciles de detectar que los errores de sintaxis o las excepciones porque el código puede ejecutarse sin generar mensajes de error, pero produce resultados inesperados o incorrectos debido a una lógica incorrecta en el programa. Aquí se presentan algunos ejemplos de errores semánticos comunes en Python:"
      ]
    },
    {
      "cell_type": "markdown",
      "id": "07991696",
      "metadata": {
        "id": "07991696"
      },
      "source": [
        "**Operaciones incorrectas**"
      ]
    },
    {
      "cell_type": "code",
      "execution_count": null,
      "id": "5b617bea",
      "metadata": {
        "id": "5b617bea",
        "outputId": "af3aca0f-667b-41f3-e122-b413b9d3e422"
      },
      "outputs": [
        {
          "ename": "ZeroDivisionError",
          "evalue": "division by zero",
          "output_type": "error",
          "traceback": [
            "\u001b[1;31m---------------------------------------------------------------------------\u001b[0m",
            "\u001b[1;31mZeroDivisionError\u001b[0m                         Traceback (most recent call last)",
            "Cell \u001b[1;32mIn[85], line 2\u001b[0m\n\u001b[0;32m      1\u001b[0m \u001b[38;5;66;03m# Error semántico: Operación incorrecta\u001b[39;00m\n\u001b[1;32m----> 2\u001b[0m resultado \u001b[38;5;241m=\u001b[39m \u001b[38;5;241;43m10\u001b[39;49m\u001b[43m \u001b[49m\u001b[38;5;241;43m/\u001b[39;49m\u001b[43m \u001b[49m\u001b[38;5;241;43m0\u001b[39;49m  \u001b[38;5;66;03m# División por cero\u001b[39;00m\n",
            "\u001b[1;31mZeroDivisionError\u001b[0m: division by zero"
          ]
        }
      ],
      "source": [
        "# Error semántico: Operación incorrecta\n",
        "resultado = 10 / 0  # División por cero"
      ]
    },
    {
      "cell_type": "markdown",
      "id": "b18820ca",
      "metadata": {
        "id": "b18820ca"
      },
      "source": [
        "**Lógica incorrecta**"
      ]
    },
    {
      "cell_type": "code",
      "execution_count": null,
      "id": "3a4d2427",
      "metadata": {
        "id": "3a4d2427",
        "outputId": "af0b38ff-d2e5-4864-9ded-bb46c662b30b"
      },
      "outputs": [
        {
          "ename": "ZeroDivisionError",
          "evalue": "division by zero",
          "output_type": "error",
          "traceback": [
            "\u001b[1;31m---------------------------------------------------------------------------\u001b[0m",
            "\u001b[1;31mZeroDivisionError\u001b[0m                         Traceback (most recent call last)",
            "Cell \u001b[1;32mIn[86], line 11\u001b[0m\n\u001b[0;32m      9\u001b[0m \u001b[38;5;66;03m# Llamar a la función con una lista vacía\u001b[39;00m\n\u001b[0;32m     10\u001b[0m valores \u001b[38;5;241m=\u001b[39m []\n\u001b[1;32m---> 11\u001b[0m promedio \u001b[38;5;241m=\u001b[39m \u001b[43mcalcular_promedio\u001b[49m\u001b[43m(\u001b[49m\u001b[43mvalores\u001b[49m\u001b[43m)\u001b[49m\n\u001b[0;32m     12\u001b[0m \u001b[38;5;28mprint\u001b[39m(\u001b[38;5;124m\"\u001b[39m\u001b[38;5;124mEl promedio es:\u001b[39m\u001b[38;5;124m\"\u001b[39m, promedio)\n",
            "Cell \u001b[1;32mIn[86], line 6\u001b[0m, in \u001b[0;36mcalcular_promedio\u001b[1;34m(valores)\u001b[0m\n\u001b[0;32m      4\u001b[0m \u001b[38;5;28;01mfor\u001b[39;00m valor \u001b[38;5;129;01min\u001b[39;00m valores:\n\u001b[0;32m      5\u001b[0m     suma \u001b[38;5;241m+\u001b[39m\u001b[38;5;241m=\u001b[39m valor\n\u001b[1;32m----> 6\u001b[0m promedio \u001b[38;5;241m=\u001b[39m \u001b[43msuma\u001b[49m\u001b[43m \u001b[49m\u001b[38;5;241;43m/\u001b[39;49m\u001b[43m \u001b[49m\u001b[38;5;28;43mlen\u001b[39;49m\u001b[43m(\u001b[49m\u001b[43mvalores\u001b[49m\u001b[43m)\u001b[49m\n\u001b[0;32m      7\u001b[0m \u001b[38;5;28;01mreturn\u001b[39;00m promedio\n",
            "\u001b[1;31mZeroDivisionError\u001b[0m: division by zero"
          ]
        }
      ],
      "source": [
        "# Error semántico: Lógica incorrecta\n",
        "def calcular_promedio(valores):\n",
        "    suma = 0\n",
        "    for valor in valores:\n",
        "        suma += valor\n",
        "    promedio = suma / len(valores)\n",
        "    return promedio\n",
        "\n",
        "# Llamar a la función con una lista vacía\n",
        "valores = []\n",
        "promedio = calcular_promedio(valores)\n",
        "print(\"El promedio es:\", promedio)"
      ]
    },
    {
      "cell_type": "markdown",
      "id": "cc6257c0",
      "metadata": {
        "id": "cc6257c0"
      },
      "source": [
        "En este caso, si la lista `valores` está vacía, se generará un error al intentar dividir por cero, lo cual es un error semántico en el contexto del programa."
      ]
    },
    {
      "cell_type": "markdown",
      "id": "7f657160",
      "metadata": {
        "id": "7f657160"
      },
      "source": [
        "**Uso incorrecto de estructuras de datos**"
      ]
    },
    {
      "cell_type": "code",
      "execution_count": null,
      "id": "352b7519",
      "metadata": {
        "id": "352b7519",
        "outputId": "006b184b-a791-4c1c-c263-28103c42a38f"
      },
      "outputs": [
        {
          "ename": "IndexError",
          "evalue": "list index out of range",
          "output_type": "error",
          "traceback": [
            "\u001b[1;31m---------------------------------------------------------------------------\u001b[0m",
            "\u001b[1;31mIndexError\u001b[0m                                Traceback (most recent call last)",
            "Cell \u001b[1;32mIn[87], line 3\u001b[0m\n\u001b[0;32m      1\u001b[0m \u001b[38;5;66;03m# Error semántico: Uso incorrecto de una lista\u001b[39;00m\n\u001b[0;32m      2\u001b[0m numeros \u001b[38;5;241m=\u001b[39m [\u001b[38;5;241m1\u001b[39m, \u001b[38;5;241m2\u001b[39m, \u001b[38;5;241m3\u001b[39m, \u001b[38;5;241m4\u001b[39m, \u001b[38;5;241m5\u001b[39m]\n\u001b[1;32m----> 3\u001b[0m ultimo_numero \u001b[38;5;241m=\u001b[39m \u001b[43mnumeros\u001b[49m\u001b[43m[\u001b[49m\u001b[38;5;241;43m10\u001b[39;49m\u001b[43m]\u001b[49m  \u001b[38;5;66;03m# Acceso a un índice fuera de rango\u001b[39;00m\n",
            "\u001b[1;31mIndexError\u001b[0m: list index out of range"
          ]
        }
      ],
      "source": [
        "# Error semántico: Uso incorrecto de una lista\n",
        "numeros = [1, 2, 3, 4, 5]\n",
        "ultimo_numero = numeros[10]  # Acceso a un índice fuera de rango"
      ]
    },
    {
      "cell_type": "markdown",
      "id": "b6e9b7e7",
      "metadata": {
        "id": "b6e9b7e7"
      },
      "source": [
        "**Valores incorrectos**"
      ]
    },
    {
      "cell_type": "code",
      "execution_count": null,
      "id": "22c30597",
      "metadata": {
        "id": "22c30597"
      },
      "outputs": [],
      "source": [
        "# Error semántico: Asignación incorrecta de valores\n",
        "edad = -10  # Edad negativa"
      ]
    },
    {
      "cell_type": "markdown",
      "id": "9ec06f94",
      "metadata": {
        "id": "9ec06f94"
      },
      "source": [
        "**Lógica de negocio incorrecta**"
      ]
    },
    {
      "cell_type": "code",
      "execution_count": null,
      "id": "b5c984be",
      "metadata": {
        "id": "b5c984be"
      },
      "outputs": [],
      "source": [
        "# Error semántico: Cálculo incorrecto\n",
        "precio = 100\n",
        "descuento = 200  # Descuento mayor que el precio\n",
        "precio_final = precio - descuento"
      ]
    },
    {
      "cell_type": "markdown",
      "id": "14391b2c",
      "metadata": {
        "id": "14391b2c"
      },
      "source": [
        "**Cómo Identificar Errores Semánticos**\n",
        "\n",
        "Los errores semánticos generalmente se detectan cuando el programa produce resultados inesperados o incorrectos. Para identificar y corregir estos errores, es importante comprender la lógica del programa y revisar cuidadosamente el código en busca de posibles problemas. La depuración paso a paso y las pruebas exhaustivas del programa pueden ayudar a identificar y corregir los errores semánticos de manera efectiva."
      ]
    }
  ],
  "metadata": {
    "kernelspec": {
      "display_name": "docs-py3.10",
      "language": "python",
      "name": "python3"
    },
    "language_info": {
      "codemirror_mode": {
        "name": "ipython",
        "version": 3
      },
      "file_extension": ".py",
      "mimetype": "text/x-python",
      "name": "python",
      "nbconvert_exporter": "python",
      "pygments_lexer": "ipython3",
      "version": "3.10.11"
    },
    "nbTranslate": {
      "displayLangs": [
        "*"
      ],
      "hotkey": "alt-t",
      "langInMainMenu": true,
      "sourceLang": "en",
      "targetLang": "fr",
      "useGoogleTranslate": true
    },
    "colab": {
      "provenance": []
    }
  },
  "nbformat": 4,
  "nbformat_minor": 5
}